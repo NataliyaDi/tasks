{
 "cells": [
  {
   "cell_type": "markdown",
   "metadata": {},
   "source": [
    "Python data types"
   ]
  },
  {
   "cell_type": "code",
   "execution_count": 4,
   "metadata": {},
   "outputs": [
    {
     "name": "stdout",
     "output_type": "stream",
     "text": [
      "[1, 2, 3, 4, 5]\n",
      "[1, [1000, 2], 3, 4, 5]\n"
     ]
    }
   ],
   "source": [
    "l1 = [1, 2, 3, 4, 5]\n",
    "l1[1:3][0]=1000\n",
    "print(l1)  #???\n",
    "\n",
    "l2 = [1, [0, 2], 3, 4, 5]\n",
    "l2[1:3][0][0]=1000\n",
    "print(l2)  #???"
   ]
  },
  {
   "cell_type": "markdown",
   "metadata": {},
   "source": [
    "-----"
   ]
  },
  {
   "cell_type": "markdown",
   "metadata": {},
   "source": [
    "Visibility"
   ]
  },
  {
   "cell_type": "code",
   "execution_count": null,
   "metadata": {},
   "outputs": [],
   "source": [
    "def a():\n",
    "    V = 2\n",
    "    print(V)\n",
    "def b(V=3):\n",
    "    print(V)\n",
    "def c():\n",
    "    print(V)\n",
    "\n",
    "V = 1\n",
    "\n",
    "a()  # ???\n",
    "b()  # ???\n",
    "c()  # ???"
   ]
  },
  {
   "cell_type": "code",
   "execution_count": null,
   "metadata": {},
   "outputs": [],
   "source": [
    "def func(L=[]):\n",
    "    L.append(1)\n",
    "    return L\n",
    "\n",
    "print(func())    # ???\n",
    "print(func())    # ???\n",
    "print(func([]))  # ???\n",
    "print(func())    # ???"
   ]
  },
  {
   "cell_type": "code",
   "execution_count": null,
   "metadata": {},
   "outputs": [],
   "source": [
    "---\n",
    "Class and inheritance\n",
    "\n",
    "#%%\n",
    "\n",
    "class A:\n",
    "    def m(self):\n",
    "        print('A')\n",
    "\n",
    "class B:\n",
    "    def m(self):\n",
    "        print('B')\n",
    "\n",
    "class C(B, A):\n",
    "    pass\n",
    "\n",
    "class D(A, B):\n",
    "    pass\n",
    "\n",
    "class E(A, B):\n",
    "    def m(self):\n",
    "        print('E')\n",
    "\n",
    "C().m()  # ???\n",
    "D().m()  # ???\n",
    "E().m()  # ???\n"
   ]
  }
 ],
 "metadata": {
  "kernelspec": {
   "display_name": "Python 3",
   "language": "python",
   "name": "python3"
  },
  "language_info": {
   "codemirror_mode": {
    "name": "ipython",
    "version": 3
   },
   "file_extension": ".py",
   "mimetype": "text/x-python",
   "name": "python",
   "nbconvert_exporter": "python",
   "pygments_lexer": "ipython3",
   "version": "3.6.9"
  }
 },
 "nbformat": 4,
 "nbformat_minor": 4
}

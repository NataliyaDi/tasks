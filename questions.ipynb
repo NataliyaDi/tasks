{
 "cells": [
  {
   "cell_type": "markdown",
   "source": [
    "---\n",
    "Python data types"
   ],
   "metadata": {
    "collapsed": false,
    "pycharm": {
     "name": "#%% md\n"
    }
   }
  },
  {
   "cell_type": "code",
   "execution_count": null,
   "outputs": [],
   "source": [
    "l1 = [1, 2, 3, 4, 5]\n",
    "l1[1:3][0]=1000\n",
    "print(l1)  #???"
   ],
   "metadata": {
    "collapsed": false,
    "pycharm": {
     "name": "#%%\n"
    }
   }
  },
  {
   "cell_type": "code",
   "execution_count": null,
   "outputs": [],
   "source": [
    "l2 = [1, [0, 2], 3, 4, 5]\n",
    "l2[1:3][0][0]=1000\n",
    "print(l2)  #???"
   ],
   "metadata": {
    "collapsed": false,
    "pycharm": {
     "name": "#%%\n"
    }
   }
  },
  {
   "cell_type": "markdown",
   "source": [
    "---\n",
    "Visibility"
   ],
   "metadata": {
    "collapsed": false,
    "pycharm": {
     "name": "#%% md\n"
    }
   }
  },
  {
   "cell_type": "code",
   "execution_count": null,
   "outputs": [],
   "source": [
    "def a():\n",
    "    V = 2\n",
    "    print(V)\n",
    "def b(V=3):\n",
    "    print(V)\n",
    "def c():\n",
    "    print(V)\n",
    "\n",
    "V = 1\n",
    "\n",
    "a()  # ???\n",
    "b()  # ???\n",
    "c()  # ???"
   ],
   "metadata": {
    "collapsed": false,
    "pycharm": {
     "name": "#%%\n"
    }
   }
  },
  {
   "cell_type": "code",
   "execution_count": null,
   "outputs": [],
   "source": [
    "def func(L=[]):\n",
    "    L.append(1)\n",
    "    return L\n",
    "\n",
    "print(func())    # ???\n",
    "print(func())    # ???\n",
    "print(func([]))  # ???\n",
    "print(func())    # ???"
   ],
   "metadata": {
    "collapsed": false,
    "pycharm": {
     "name": "#%%\n"
    }
   }
  },
  {
   "cell_type": "markdown",
   "source": [
    "---\n",
    "Class and inheritance"
   ],
   "metadata": {
    "collapsed": false,
    "pycharm": {
     "name": "#%% md\n"
    }
   }
  },
  {
   "cell_type": "code",
   "execution_count": null,
   "outputs": [],
   "source": [
    "class A:\n",
    "    def m(self):\n",
    "        print('A')\n",
    "\n",
    "class B:\n",
    "    def m(self):\n",
    "        print('B')\n",
    "\n",
    "class C(B, A):\n",
    "    pass\n",
    "\n",
    "class D(A, B):\n",
    "    pass\n",
    "\n",
    "class E(A, B):\n",
    "    def m(self):\n",
    "        print('E')\n",
    "\n",
    "C().m()  # ???\n",
    "D().m()  # ???\n",
    "E().m()  # ???"
   ],
   "metadata": {
    "collapsed": false,
    "pycharm": {
     "name": "#%%\n"
    }
   }
  }
 ],
 "metadata": {
  "kernelspec": {
   "display_name": "Python 3",
   "language": "python",
   "name": "python3"
  },
  "language_info": {
   "codemirror_mode": {
    "name": "ipython",
    "version": 2
   },
   "file_extension": ".py",
   "mimetype": "text/x-python",
   "name": "python",
   "nbconvert_exporter": "python",
   "pygments_lexer": "ipython2",
   "version": "2.7.6"
  }
 },
 "nbformat": 4,
 "nbformat_minor": 0
}